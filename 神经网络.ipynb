{
 "cells": [
  {
   "cell_type": "markdown",
   "metadata": {},
   "source": [
    "### 循环神经网络\n",
    "\n",
    "* [循环神经网络(RNN, Recurrent Neural Networks)介绍](https://blog.csdn.net/heyongluoyao8/article/details/48636251)\n",
    "\n",
    "* [详解循环神经网络(Recurrent Neural Network)](https://www.jianshu.com/p/39a99c88a565)\n",
    "* [零基础入门深度学习(5) - 循环神经网络](https://www.zybuluo.com/hanbingtao/note/541458)\n",
    "\n",
    "\n"
   ]
  },
  {
   "cell_type": "markdown",
   "metadata": {},
   "source": [
    "- [零基础入门深度学习(1) - 感知器 ](https://www.zybuluo.com/hanbingtao/note/433855)\n",
    "- [零基础入门深度学习(2) - 线性单元和梯度下降]() ](https://www.zybuluo.com/hanbingtao/note/448086)\n",
    "- [零基础入门深度学习(3) - 神经网络和反向传播算法](https://www.zybuluo.com/hanbingtao/note/476663) \n",
    "- [零基础入门深度学习(4) - 卷积神经网络 ](https://www.zybuluo.com/hanbingtao/note/485480)\n",
    "- [零基础入门深度学习(5) - 循环神经网络 ](https://zybuluo.com/hanbingtao/note/541458)\n",
    "- [零基础入门深度学习(6) - 长短时记忆网络(LSTM)](https://zybuluo.com/hanbingtao/note/581764) \n",
    "- [零基础入门深度学习(7) - 递归神经网络](https://zybuluo.com/hanbingtao/note/626300)"
   ]
  },
  {
   "cell_type": "markdown",
   "metadata": {},
   "source": [
    "- [Deep learning algorithms source code for beginners ](https://github.com/hanbt/learn_dl )"
   ]
  },
  {
   "cell_type": "code",
   "execution_count": null,
   "metadata": {
    "collapsed": true
   },
   "outputs": [],
   "source": []
  }
 ],
 "metadata": {
  "kernelspec": {
   "display_name": "Python 3",
   "language": "python",
   "name": "python3"
  },
  "language_info": {
   "codemirror_mode": {
    "name": "ipython",
    "version": 3
   },
   "file_extension": ".py",
   "mimetype": "text/x-python",
   "name": "python",
   "nbconvert_exporter": "python",
   "pygments_lexer": "ipython3",
   "version": "3.6.3"
  }
 },
 "nbformat": 4,
 "nbformat_minor": 2
}
